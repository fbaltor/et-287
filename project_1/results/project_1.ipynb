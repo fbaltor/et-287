{
 "cells": [
  {
   "cell_type": "markdown",
   "id": "626b14b3",
   "metadata": {},
   "source": [
    "#### Instituto Tecnológico de Aeronáutica - ITA\n",
    "#### Divisão de Engenharia Eletrônica - IEE\n",
    "#### ET-287 - Processamento de sinais usando redes neurais\n",
    "#### Professora Sarah Negreiros de Carvalho Leite\n",
    "#### Aluno Felipe Keller Baltor"
   ]
  },
  {
   "cell_type": "markdown",
   "id": "628ae391",
   "metadata": {},
   "source": [
    "# Projeto 1 - Analisando Vinhos"
   ]
  },
  {
   "cell_type": "code",
   "execution_count": 18,
   "id": "661abd44",
   "metadata": {},
   "outputs": [
    {
     "name": "stdout",
     "output_type": "stream",
     "text": [
      "Once deleted, variables cannot be recovered. Proceed (y/[n])? y\n"
     ]
    }
   ],
   "source": [
    "%reset"
   ]
  },
  {
   "cell_type": "code",
   "execution_count": 1,
   "id": "394ec470",
   "metadata": {},
   "outputs": [],
   "source": [
    "# Importações básicas\n",
    "\n",
    "import numpy as np # biblioteca de manipulação vetorial e numérica\n",
    "import matplotlib.pyplot as plt # biblioteca para traçar gráficos\n",
    "import pandas as pd # biblioteca de manipulação de dados tabulares\n",
    "from pathlib import Path # biblioteca para manipulação de \"paths\"\n",
    "import urllib3 # biblioteca para download do dataset\n",
    "import zipfile"
   ]
  },
  {
   "cell_type": "markdown",
   "id": "82265f23",
   "metadata": {},
   "source": [
    "### _1. Baixar a base de dados disponível no repositório da UCI machine learning: https://archive.ics.uci.edu/ml/datasets/wine+quality. Gere uma única planilha para os dados de vinho branco e tinto._"
   ]
  },
  {
   "cell_type": "code",
   "execution_count": 2,
   "id": "96f04bec",
   "metadata": {},
   "outputs": [],
   "source": [
    "# Checando se estamos no diretório correto\n",
    "\n",
    "project_dir = Path('.')\n",
    "\n",
    "assert project_dir.resolve().name == 'project_1'"
   ]
  },
  {
   "cell_type": "code",
   "execution_count": 6,
   "id": "d6096e08",
   "metadata": {},
   "outputs": [
    {
     "name": "stdout",
     "output_type": "stream",
     "text": [
      "Data folder doesn't exists, checking for zip file\n",
      "Zip file doesn't exists, downloading...\n",
      "Extracting zip to data folder\n",
      "Data folder ready!\n"
     ]
    }
   ],
   "source": [
    "# Baixando os dados\n",
    "\n",
    "data_dir = project_dir / 'data'\n",
    "\n",
    "if not data_dir.is_dir():\n",
    "    print(\"Data folder doesn't exists, checking for zip file\")\n",
    "    data_compressed = project_dir / 'data.zip'\n",
    "    if not data_compressed.is_file():\n",
    "        print(\"Zip file doesn't exists, downloading...\")\n",
    "        data_url = 'https://archive.ics.uci.edu/static/public/186/wine+quality.zip'\n",
    "\n",
    "        http = urllib3.PoolManager()\n",
    "        r = http.request('GET', data_url, preload_content=False)\n",
    "\n",
    "        with open(data_compressed, 'wb') as out:\n",
    "            while True:\n",
    "                data = r.read(2**16)\n",
    "                if not data:\n",
    "                    break\n",
    "                out.write(data)\n",
    "\n",
    "        r.release_conn()\n",
    "    \n",
    "    print(\"Extracting zip to data folder\")\n",
    "    with zipfile.ZipFile(data_compressed, 'r') as zip_ref:\n",
    "        zip_ref.extractall(data_dir)\n",
    "    print(\"Data folder ready!\")\n",
    "    \n",
    "else:\n",
    "    print('Data folder already exists!')"
   ]
  },
  {
   "cell_type": "code",
   "execution_count": 7,
   "id": "060ab992",
   "metadata": {},
   "outputs": [
    {
     "name": "stdout",
     "output_type": "stream",
     "text": [
      "Citation Request:\n",
      "  This dataset is public available for research. The details are described in [Cortez et al., 2009]. \n",
      "  Please include this citation if you plan to use this database:\n",
      "\n",
      "  P. Cortez, A. Cerdeira, F. Almeida, T. Matos and J. Reis. \n",
      "  Modeling wine preferences by data mining from physicochemical properties.\n",
      "  In Decision Support Systems, Elsevier, 47(4):547-553. ISSN: 0167-9236.\n",
      "\n",
      "  Available at: [@Elsevier] http://dx.doi.org/10.1016/j.dss.2009.05.016\n",
      "                [Pre-press (pdf)] http://www3.dsi.uminho.pt/pcortez/winequality09.pdf\n",
      "                [bib] http://www3.dsi.uminho.pt/pcortez/dss09.bib\n",
      "\n",
      "1. Title: Wine Quality \n",
      "\n",
      "2. Sources\n",
      "   Created by: Paulo Cortez (Univ. Minho), Antonio Cerdeira, Fernando Almeida, Telmo Matos and Jose Reis (CVRVV) @ 2009\n",
      "   \n",
      "3. Past Usage:\n",
      "\n",
      "  P. Cortez, A. Cerdeira, F. Almeida, T. Matos and J. Reis. \n",
      "  Modeling wine preferences by data mining from physicochemical properties.\n",
      "  In Decision Support Systems, Elsevier, 47(4):547-553. ISSN: 0167-9236.\n",
      "\n",
      "  In the above reference, two datasets were created, using red and white wine samples.\n",
      "  The inputs include objective tests (e.g. PH values) and the output is based on sensory data\n",
      "  (median of at least 3 evaluations made by wine experts). Each expert graded the wine quality \n",
      "  between 0 (very bad) and 10 (very excellent). Several data mining methods were applied to model\n",
      "  these datasets under a regression approach. The support vector machine model achieved the\n",
      "  best results. Several metrics were computed: MAD, confusion matrix for a fixed error tolerance (T),\n",
      "  etc. Also, we plot the relative importances of the input variables (as measured by a sensitivity\n",
      "  analysis procedure).\n",
      " \n",
      "4. Relevant Information:\n",
      "\n",
      "   The two datasets are related to red and white variants of the Portuguese \"Vinho Verde\" wine.\n",
      "   For more details, consult: http://www.vinhoverde.pt/en/ or the reference [Cortez et al., 2009].\n",
      "   Due to privacy and logistic issues, only physicochemical (inputs) and sensory (the output) variables \n",
      "   are available (e.g. there is no data about grape types, wine brand, wine selling price, etc.).\n",
      "\n",
      "   These datasets can be viewed as classification or regression tasks.\n",
      "   The classes are ordered and not balanced (e.g. there are munch more normal wines than\n",
      "   excellent or poor ones). Outlier detection algorithms could be used to detect the few excellent\n",
      "   or poor wines. Also, we are not sure if all input variables are relevant. So\n",
      "   it could be interesting to test feature selection methods. \n",
      "\n",
      "5. Number of Instances: red wine - 1599; white wine - 4898. \n",
      "\n",
      "6. Number of Attributes: 11 + output attribute\n",
      "  \n",
      "   Note: several of the attributes may be correlated, thus it makes sense to apply some sort of\n",
      "   feature selection.\n",
      "\n",
      "7. Attribute information:\n",
      "\n",
      "   For more information, read [Cortez et al., 2009].\n",
      "\n",
      "   Input variables (based on physicochemical tests):\n",
      "   1 - fixed acidity\n",
      "   2 - volatile acidity\n",
      "   3 - citric acid\n",
      "   4 - residual sugar\n",
      "   5 - chlorides\n",
      "   6 - free sulfur dioxide\n",
      "   7 - total sulfur dioxide\n",
      "   8 - density\n",
      "   9 - pH\n",
      "   10 - sulphates\n",
      "   11 - alcohol\n",
      "   Output variable (based on sensory data): \n",
      "   12 - quality (score between 0 and 10)\n",
      "\n",
      "8. Missing Attribute Values: None\n",
      "\n"
     ]
    }
   ],
   "source": [
    "# Printando a descrição dos dados\n",
    "\n",
    "data_description = data_dir / 'winequality.names'\n",
    "\n",
    "with open(data_description) as f:\n",
    "    print(f.read())"
   ]
  },
  {
   "cell_type": "code",
   "execution_count": 8,
   "id": "f5220a08",
   "metadata": {},
   "outputs": [
    {
     "data": {
      "text/html": [
       "<div>\n",
       "<style scoped>\n",
       "    .dataframe tbody tr th:only-of-type {\n",
       "        vertical-align: middle;\n",
       "    }\n",
       "\n",
       "    .dataframe tbody tr th {\n",
       "        vertical-align: top;\n",
       "    }\n",
       "\n",
       "    .dataframe thead th {\n",
       "        text-align: right;\n",
       "    }\n",
       "</style>\n",
       "<table border=\"1\" class=\"dataframe\">\n",
       "  <thead>\n",
       "    <tr style=\"text-align: right;\">\n",
       "      <th></th>\n",
       "      <th>fixed acidity</th>\n",
       "      <th>volatile acidity</th>\n",
       "      <th>citric acid</th>\n",
       "      <th>residual sugar</th>\n",
       "      <th>chlorides</th>\n",
       "      <th>free sulfur dioxide</th>\n",
       "      <th>total sulfur dioxide</th>\n",
       "      <th>density</th>\n",
       "      <th>pH</th>\n",
       "      <th>sulphates</th>\n",
       "      <th>alcohol</th>\n",
       "      <th>quality</th>\n",
       "      <th>type</th>\n",
       "    </tr>\n",
       "  </thead>\n",
       "  <tbody>\n",
       "    <tr>\n",
       "      <th>0</th>\n",
       "      <td>7.4</td>\n",
       "      <td>0.70</td>\n",
       "      <td>0.00</td>\n",
       "      <td>1.9</td>\n",
       "      <td>0.076</td>\n",
       "      <td>11.0</td>\n",
       "      <td>34.0</td>\n",
       "      <td>0.99780</td>\n",
       "      <td>3.51</td>\n",
       "      <td>0.56</td>\n",
       "      <td>9.4</td>\n",
       "      <td>5</td>\n",
       "      <td>1</td>\n",
       "    </tr>\n",
       "    <tr>\n",
       "      <th>1</th>\n",
       "      <td>7.8</td>\n",
       "      <td>0.88</td>\n",
       "      <td>0.00</td>\n",
       "      <td>2.6</td>\n",
       "      <td>0.098</td>\n",
       "      <td>25.0</td>\n",
       "      <td>67.0</td>\n",
       "      <td>0.99680</td>\n",
       "      <td>3.20</td>\n",
       "      <td>0.68</td>\n",
       "      <td>9.8</td>\n",
       "      <td>5</td>\n",
       "      <td>1</td>\n",
       "    </tr>\n",
       "    <tr>\n",
       "      <th>2</th>\n",
       "      <td>7.8</td>\n",
       "      <td>0.76</td>\n",
       "      <td>0.04</td>\n",
       "      <td>2.3</td>\n",
       "      <td>0.092</td>\n",
       "      <td>15.0</td>\n",
       "      <td>54.0</td>\n",
       "      <td>0.99700</td>\n",
       "      <td>3.26</td>\n",
       "      <td>0.65</td>\n",
       "      <td>9.8</td>\n",
       "      <td>5</td>\n",
       "      <td>1</td>\n",
       "    </tr>\n",
       "    <tr>\n",
       "      <th>3</th>\n",
       "      <td>11.2</td>\n",
       "      <td>0.28</td>\n",
       "      <td>0.56</td>\n",
       "      <td>1.9</td>\n",
       "      <td>0.075</td>\n",
       "      <td>17.0</td>\n",
       "      <td>60.0</td>\n",
       "      <td>0.99800</td>\n",
       "      <td>3.16</td>\n",
       "      <td>0.58</td>\n",
       "      <td>9.8</td>\n",
       "      <td>6</td>\n",
       "      <td>1</td>\n",
       "    </tr>\n",
       "    <tr>\n",
       "      <th>4</th>\n",
       "      <td>7.4</td>\n",
       "      <td>0.70</td>\n",
       "      <td>0.00</td>\n",
       "      <td>1.9</td>\n",
       "      <td>0.076</td>\n",
       "      <td>11.0</td>\n",
       "      <td>34.0</td>\n",
       "      <td>0.99780</td>\n",
       "      <td>3.51</td>\n",
       "      <td>0.56</td>\n",
       "      <td>9.4</td>\n",
       "      <td>5</td>\n",
       "      <td>1</td>\n",
       "    </tr>\n",
       "    <tr>\n",
       "      <th>...</th>\n",
       "      <td>...</td>\n",
       "      <td>...</td>\n",
       "      <td>...</td>\n",
       "      <td>...</td>\n",
       "      <td>...</td>\n",
       "      <td>...</td>\n",
       "      <td>...</td>\n",
       "      <td>...</td>\n",
       "      <td>...</td>\n",
       "      <td>...</td>\n",
       "      <td>...</td>\n",
       "      <td>...</td>\n",
       "      <td>...</td>\n",
       "    </tr>\n",
       "    <tr>\n",
       "      <th>6492</th>\n",
       "      <td>6.2</td>\n",
       "      <td>0.21</td>\n",
       "      <td>0.29</td>\n",
       "      <td>1.6</td>\n",
       "      <td>0.039</td>\n",
       "      <td>24.0</td>\n",
       "      <td>92.0</td>\n",
       "      <td>0.99114</td>\n",
       "      <td>3.27</td>\n",
       "      <td>0.50</td>\n",
       "      <td>11.2</td>\n",
       "      <td>6</td>\n",
       "      <td>0</td>\n",
       "    </tr>\n",
       "    <tr>\n",
       "      <th>6493</th>\n",
       "      <td>6.6</td>\n",
       "      <td>0.32</td>\n",
       "      <td>0.36</td>\n",
       "      <td>8.0</td>\n",
       "      <td>0.047</td>\n",
       "      <td>57.0</td>\n",
       "      <td>168.0</td>\n",
       "      <td>0.99490</td>\n",
       "      <td>3.15</td>\n",
       "      <td>0.46</td>\n",
       "      <td>9.6</td>\n",
       "      <td>5</td>\n",
       "      <td>0</td>\n",
       "    </tr>\n",
       "    <tr>\n",
       "      <th>6494</th>\n",
       "      <td>6.5</td>\n",
       "      <td>0.24</td>\n",
       "      <td>0.19</td>\n",
       "      <td>1.2</td>\n",
       "      <td>0.041</td>\n",
       "      <td>30.0</td>\n",
       "      <td>111.0</td>\n",
       "      <td>0.99254</td>\n",
       "      <td>2.99</td>\n",
       "      <td>0.46</td>\n",
       "      <td>9.4</td>\n",
       "      <td>6</td>\n",
       "      <td>0</td>\n",
       "    </tr>\n",
       "    <tr>\n",
       "      <th>6495</th>\n",
       "      <td>5.5</td>\n",
       "      <td>0.29</td>\n",
       "      <td>0.30</td>\n",
       "      <td>1.1</td>\n",
       "      <td>0.022</td>\n",
       "      <td>20.0</td>\n",
       "      <td>110.0</td>\n",
       "      <td>0.98869</td>\n",
       "      <td>3.34</td>\n",
       "      <td>0.38</td>\n",
       "      <td>12.8</td>\n",
       "      <td>7</td>\n",
       "      <td>0</td>\n",
       "    </tr>\n",
       "    <tr>\n",
       "      <th>6496</th>\n",
       "      <td>6.0</td>\n",
       "      <td>0.21</td>\n",
       "      <td>0.38</td>\n",
       "      <td>0.8</td>\n",
       "      <td>0.020</td>\n",
       "      <td>22.0</td>\n",
       "      <td>98.0</td>\n",
       "      <td>0.98941</td>\n",
       "      <td>3.26</td>\n",
       "      <td>0.32</td>\n",
       "      <td>11.8</td>\n",
       "      <td>6</td>\n",
       "      <td>0</td>\n",
       "    </tr>\n",
       "  </tbody>\n",
       "</table>\n",
       "<p>6497 rows × 13 columns</p>\n",
       "</div>"
      ],
      "text/plain": [
       "      fixed acidity  volatile acidity  citric acid  residual sugar  chlorides  \\\n",
       "0               7.4              0.70         0.00             1.9      0.076   \n",
       "1               7.8              0.88         0.00             2.6      0.098   \n",
       "2               7.8              0.76         0.04             2.3      0.092   \n",
       "3              11.2              0.28         0.56             1.9      0.075   \n",
       "4               7.4              0.70         0.00             1.9      0.076   \n",
       "...             ...               ...          ...             ...        ...   \n",
       "6492            6.2              0.21         0.29             1.6      0.039   \n",
       "6493            6.6              0.32         0.36             8.0      0.047   \n",
       "6494            6.5              0.24         0.19             1.2      0.041   \n",
       "6495            5.5              0.29         0.30             1.1      0.022   \n",
       "6496            6.0              0.21         0.38             0.8      0.020   \n",
       "\n",
       "      free sulfur dioxide  total sulfur dioxide  density    pH  sulphates  \\\n",
       "0                    11.0                  34.0  0.99780  3.51       0.56   \n",
       "1                    25.0                  67.0  0.99680  3.20       0.68   \n",
       "2                    15.0                  54.0  0.99700  3.26       0.65   \n",
       "3                    17.0                  60.0  0.99800  3.16       0.58   \n",
       "4                    11.0                  34.0  0.99780  3.51       0.56   \n",
       "...                   ...                   ...      ...   ...        ...   \n",
       "6492                 24.0                  92.0  0.99114  3.27       0.50   \n",
       "6493                 57.0                 168.0  0.99490  3.15       0.46   \n",
       "6494                 30.0                 111.0  0.99254  2.99       0.46   \n",
       "6495                 20.0                 110.0  0.98869  3.34       0.38   \n",
       "6496                 22.0                  98.0  0.98941  3.26       0.32   \n",
       "\n",
       "      alcohol  quality  type  \n",
       "0         9.4        5     1  \n",
       "1         9.8        5     1  \n",
       "2         9.8        5     1  \n",
       "3         9.8        6     1  \n",
       "4         9.4        5     1  \n",
       "...       ...      ...   ...  \n",
       "6492     11.2        6     0  \n",
       "6493      9.6        5     0  \n",
       "6494      9.4        6     0  \n",
       "6495     12.8        7     0  \n",
       "6496     11.8        6     0  \n",
       "\n",
       "[6497 rows x 13 columns]"
      ]
     },
     "execution_count": 8,
     "metadata": {},
     "output_type": "execute_result"
    }
   ],
   "source": [
    "# Lendo os dados e criando a tabela única\n",
    "\n",
    "red = pd.read_csv(data_dir / 'winequality-red.csv', sep=';')\n",
    "red['type'] = 1 # red\n",
    "\n",
    "white = pd.read_csv(data_dir / 'winequality-white.csv', sep=';')\n",
    "white['type'] = 0 # white\n",
    "\n",
    "data = pd.concat([red, white], ignore_index=True)\n",
    "data"
   ]
  },
  {
   "cell_type": "markdown",
   "id": "fd92d4f9",
   "metadata": {},
   "source": [
    "### _2. Visualize a dimensão da matriz de dados e do vetor de rótulos._"
   ]
  },
  {
   "cell_type": "code",
   "execution_count": 24,
   "id": "eee989c3",
   "metadata": {},
   "outputs": [
    {
     "data": {
      "text/plain": [
       "(6497, 13)"
      ]
     },
     "execution_count": 24,
     "metadata": {},
     "output_type": "execute_result"
    }
   ],
   "source": [
    "data.shape"
   ]
  },
  {
   "cell_type": "markdown",
   "id": "819c190c",
   "metadata": {},
   "source": [
    "### _3. Realize uma análise criteriosa dos dados da base de dados. Pontos que devem ser considerados:_"
   ]
  },
  {
   "cell_type": "markdown",
   "id": "0976d535",
   "metadata": {},
   "source": [
    "#### _3.1. A base de dados é consistente?_"
   ]
  },
  {
   "cell_type": "markdown",
   "id": "75bcd35e",
   "metadata": {},
   "source": [
    "#### _3.2 Há dados faltantes?_"
   ]
  },
  {
   "cell_type": "code",
   "execution_count": 25,
   "id": "4a926ca0",
   "metadata": {},
   "outputs": [
    {
     "data": {
      "text/plain": [
       "False"
      ]
     },
     "execution_count": 25,
     "metadata": {},
     "output_type": "execute_result"
    }
   ],
   "source": [
    "data.isnull().values.any()"
   ]
  },
  {
   "cell_type": "markdown",
   "id": "94855839",
   "metadata": {},
   "source": [
    "Como se vê pela expressão acima, não existem valores faltantes na base de dados."
   ]
  },
  {
   "cell_type": "markdown",
   "id": "099ae0b2",
   "metadata": {},
   "source": [
    "#### _3.3 Há dados não numéricos?_"
   ]
  },
  {
   "cell_type": "code",
   "execution_count": 26,
   "id": "2019892e",
   "metadata": {},
   "outputs": [
    {
     "data": {
      "text/plain": [
       "fixed acidity           float64\n",
       "volatile acidity        float64\n",
       "citric acid             float64\n",
       "residual sugar          float64\n",
       "chlorides               float64\n",
       "free sulfur dioxide     float64\n",
       "total sulfur dioxide    float64\n",
       "density                 float64\n",
       "pH                      float64\n",
       "sulphates               float64\n",
       "alcohol                 float64\n",
       "quality                   int64\n",
       "type                      int64\n",
       "dtype: object"
      ]
     },
     "execution_count": 26,
     "metadata": {},
     "output_type": "execute_result"
    }
   ],
   "source": [
    "data.dtypes"
   ]
  },
  {
   "cell_type": "markdown",
   "id": "dc1fb752",
   "metadata": {},
   "source": [
    "Na base original não existem dados não numéricos. Esses poderiam ter sido introduzidos com a definição da coluna _type_ (que representa o tipo de vinho"
   ]
  },
  {
   "cell_type": "markdown",
   "id": "5b4b715d",
   "metadata": {},
   "source": [
    "#### _3.4 A base de dados é balanceada? Considere as classes vinho tinto e branco._"
   ]
  },
  {
   "cell_type": "markdown",
   "id": "4407489f",
   "metadata": {},
   "source": [
    "Já da importação dos dados pudemos perceber que os valores dos vinhos tintos e brancos era bastante diferente. Obtendo os números exatos abaixo atestamos que a mesma realmente não é balanceada quanto ao tipo de vinho."
   ]
  },
  {
   "cell_type": "code",
   "execution_count": 80,
   "id": "70f710db",
   "metadata": {},
   "outputs": [
    {
     "data": {
      "text/plain": [
       "(1599, 4898)"
      ]
     },
     "execution_count": 80,
     "metadata": {},
     "output_type": "execute_result"
    }
   ],
   "source": [
    "# https://stackoverflow.com/a/20076611/12427122\n",
    "\n",
    "data.type.value_counts()[1], data.type.value_counts()[0]"
   ]
  },
  {
   "cell_type": "markdown",
   "id": "fcb7635b",
   "metadata": {},
   "source": [
    "### _4. Apresente uma análise estatística dos dados que embase quais variáveis de entrada são mais relevantes se quisermos classificar o vinho pelo tipo (tinto vs. branco). Justifique._"
   ]
  },
  {
   "cell_type": "code",
   "execution_count": 33,
   "id": "f2b51b94",
   "metadata": {},
   "outputs": [
    {
     "data": {
      "text/plain": [
       "fixed acidity            8.319637\n",
       "volatile acidity         0.527821\n",
       "citric acid              0.270976\n",
       "residual sugar           2.538806\n",
       "chlorides                0.087467\n",
       "free sulfur dioxide     15.874922\n",
       "total sulfur dioxide    46.467792\n",
       "density                  0.996747\n",
       "pH                       3.311113\n",
       "sulphates                0.658149\n",
       "alcohol                 10.422983\n",
       "quality                  5.636023\n",
       "type                     1.000000\n",
       "dtype: float64"
      ]
     },
     "execution_count": 33,
     "metadata": {},
     "output_type": "execute_result"
    }
   ],
   "source": [
    "data[data.type == 1].mean()"
   ]
  },
  {
   "cell_type": "code",
   "execution_count": 53,
   "id": "554fad11",
   "metadata": {},
   "outputs": [
    {
     "data": {
      "text/plain": [
       "fixed acidity           20.927551\n",
       "volatile acidity        33.924355\n",
       "citric acid             71.888809\n",
       "residual sugar          55.535095\n",
       "chlorides               53.809492\n",
       "free sulfur dioxide     65.891077\n",
       "total sulfur dioxide    70.791666\n",
       "density                  0.189349\n",
       "pH                       4.662676\n",
       "sulphates               25.755113\n",
       "alcohol                 10.224209\n",
       "quality                 14.328712\n",
       "type                     0.000000\n",
       "dtype: float64"
      ]
     },
     "execution_count": 53,
     "metadata": {},
     "output_type": "execute_result"
    }
   ],
   "source": [
    "100 * data[data.type == 1].std() / data[data.type == 1].mean()"
   ]
  },
  {
   "cell_type": "code",
   "execution_count": 49,
   "id": "702c9319",
   "metadata": {},
   "outputs": [
    {
     "name": "stdout",
     "output_type": "stream",
     "text": [
      "correlation of fixed acidity and type: 0.48673983206805316\n",
      "correlation of volatile acidity and type: 0.6530355891787227\n",
      "correlation of citric acid and type: -0.1873965007504359\n",
      "correlation of residual sugar and type: -0.3488210078111932\n",
      "correlation of chlorides and type: 0.5126782476623964\n",
      "correlation of free sulfur dioxide and type: -0.47164366490168\n",
      "correlation of total sulfur dioxide and type: -0.7003571552968026\n",
      "correlation of density and type: 0.39064531835422284\n",
      "correlation of pH and type: 0.32912865072599984\n",
      "correlation of sulphates and type: 0.487217970057309\n",
      "correlation of alcohol and type: -0.03296955068617277\n",
      "correlation of quality and type: -0.11932328463611315\n"
     ]
    }
   ],
   "source": [
    "for attr in data.columns:\n",
    "    if attr == 'type':\n",
    "        break\n",
    "        \n",
    "    corr = np.corrcoef(data[attr], data.type)[1, 0]\n",
    "    print(f'correlation of {attr} and type: {corr}')"
   ]
  },
  {
   "cell_type": "markdown",
   "id": "7e8e8cb9",
   "metadata": {},
   "source": [
    "Dada as correlações acima, calculadas entre cada variável e o tipo de vinho (tinto ou branco), as variáveis que mais indicam os tipos de vinho são a volatilidade da acidez (_volatile acidity_) e o dioxido de enxofre total (_total sulfur dioxide_)."
   ]
  },
  {
   "cell_type": "markdown",
   "id": "58c7b2e3",
   "metadata": {},
   "source": [
    "### _5. Escolha duas das variáveis de entrada e faça um gráfico de dispersão para visualizar a distribuição dos dados de cada classe de vinho. Justifique sua escolha._"
   ]
  },
  {
   "cell_type": "code",
   "execution_count": 71,
   "id": "018e217e",
   "metadata": {},
   "outputs": [
    {
     "data": {
      "text/plain": [
       "<matplotlib.collections.PathCollection at 0x7a7d680d52d0>"
      ]
     },
     "execution_count": 71,
     "metadata": {},
     "output_type": "execute_result"
    },
    {
     "data": {
      "image/png": "[encoded data removed]",
      "text/plain": [
       "<Figure size 640x480 with 1 Axes>"
      ]
     },
     "metadata": {},
     "output_type": "display_data"
    }
   ],
   "source": [
    "red = data[data.type == 1]\n",
    "white = data[data.type == 0]\n",
    "\n",
    "attr_1 = 'volatile acidity'\n",
    "attr_2 = 'total sulfur dioxide'\n",
    "\n",
    "plt.scatter(white[attr_1], white[attr_2], color='lightgreen', alpha=0.3, marker='.')\n",
    "plt.scatter(red[attr_1], red[attr_2], color='darkred', alpha=0.3, marker='.')"
   ]
  },
  {
   "cell_type": "markdown",
   "id": "96ef360e",
   "metadata": {},
   "source": [
    "### _6. Considerando agora a variável de qualidade do vinho, avalie como é a prevalência nas duas classes para os vinhos mais bem avaliados (nota > 7) e para os avaliados com nota < 3._"
   ]
  },
  {
   "cell_type": "code",
   "execution_count": 111,
   "id": "1355f369",
   "metadata": {},
   "outputs": [
    {
     "data": {
      "text/plain": [
       "(18, 180)"
      ]
     },
     "execution_count": 111,
     "metadata": {},
     "output_type": "execute_result"
    }
   ],
   "source": [
    "high_quality_value = 7\n",
    "\n",
    "red_good = data[(data.type == 1) & (data.quality > high_quality_value)]\n",
    "white_good = data[(data.type == 0) & (data.quality > high_quality_value)]\n",
    "\n",
    "len(red_good), len(white_good)"
   ]
  },
  {
   "cell_type": "markdown",
   "id": "fca59fd3",
   "metadata": {},
   "source": [
    "Considerando vinhos bem avaliados, percebemos que a sua maioria (10 vezes maior) é composta de vinhos brancos."
   ]
  },
  {
   "cell_type": "code",
   "execution_count": 106,
   "id": "2aa9e63f",
   "metadata": {},
   "outputs": [
    {
     "data": {
      "text/plain": [
       "0"
      ]
     },
     "execution_count": 106,
     "metadata": {},
     "output_type": "execute_result"
    }
   ],
   "source": [
    "len(data[data.quality < 3])"
   ]
  },
  {
   "cell_type": "markdown",
   "id": "1725fca4",
   "metadata": {},
   "source": [
    "Como se vê da expressão acima, não existem vinhos com nota menor do que 3. Vamos considerar notas menor do que 4 então."
   ]
  },
  {
   "cell_type": "code",
   "execution_count": 110,
   "id": "41f5b539",
   "metadata": {},
   "outputs": [
    {
     "data": {
      "text/plain": [
       "(10, 20)"
      ]
     },
     "execution_count": 110,
     "metadata": {},
     "output_type": "execute_result"
    }
   ],
   "source": [
    "low_quality_value = 4\n",
    "red_bad = data[(data.type == 1) & (data.quality < low_quality_value)]\n",
    "white_bad = data[(data.type == 0) & (data.quality < low_quality_value)]\n",
    "\n",
    "len(red_bad), len(white_bad)"
   ]
  },
  {
   "cell_type": "markdown",
   "id": "7ab47aaa",
   "metadata": {},
   "source": [
    "Novamente, há maior prevalência de vinhos brancos entre os piores."
   ]
  }
 ],
 "metadata": {
  "kernelspec": {
   "display_name": "Python 3 (ipykernel)",
   "language": "python",
   "name": "python3"
  },
  "language_info": {
   "codemirror_mode": {
    "name": "ipython",
    "version": 3
   },
   "file_extension": ".py",
   "mimetype": "text/x-python",
   "name": "python",
   "nbconvert_exporter": "python",
   "pygments_lexer": "ipython3",
   "version": "3.11.10"
  }
 },
 "nbformat": 4,
 "nbformat_minor": 5
}
