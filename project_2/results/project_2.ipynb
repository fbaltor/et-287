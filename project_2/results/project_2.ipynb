{
 "cells": [
  {
   "cell_type": "markdown",
   "id": "22c241d3",
   "metadata": {},
   "source": [
    "#### Instituto Tecnológico de Aeronáutica - ITA\n",
    "#### Divisão de Engenharia Eletrônica - IEE\n",
    "#### ET-287 - Processamento de sinais usando redes neurais\n",
    "#### Professora Sarah Negreiros de Carvalho Leite\n",
    "#### Aluno Felipe Keller Baltor"
   ]
  },
  {
   "cell_type": "markdown",
   "id": "f71f2006",
   "metadata": {},
   "source": [
    "# Projeto 2"
   ]
  },
  {
   "cell_type": "markdown",
   "id": "8fa2bb84",
   "metadata": {},
   "source": [
    "### _1. Baixe os sinais cerebrais de um indivíduo disponível em: https://bci.med.tsinghua.edu.cn/download.html._"
   ]
  },
  {
   "cell_type": "code",
   "execution_count": 1,
   "id": "d88f0c1f",
   "metadata": {},
   "outputs": [
    {
     "name": "stdout",
     "output_type": "stream",
     "text": [
      "Once deleted, variables cannot be recovered. Proceed (y/[n])? y\n"
     ]
    }
   ],
   "source": [
    "%reset"
   ]
  },
  {
   "cell_type": "code",
   "execution_count": 2,
   "id": "3f364d75",
   "metadata": {},
   "outputs": [],
   "source": [
    "# Importações básicas\n",
    "\n",
    "import numpy as np # biblioteca de manipulação vetorial e numérica\n",
    "import matplotlib.pyplot as plt # biblioteca para traçar gráficos\n",
    "import pandas as pd # biblioteca de manipulação de dados tabulares\n",
    "from pathlib import Path # biblioteca para manipulação de \"paths\"\n",
    "import urllib3 # biblioteca para download do dataset\n",
    "from tqdm import tqdm # barra de download\n",
    "import py7zr # descomprimir 7z\n",
    "import scipy"
   ]
  },
  {
   "cell_type": "code",
   "execution_count": 3,
   "id": "cf36129a",
   "metadata": {},
   "outputs": [],
   "source": [
    "# Checando se estamos no diretório correto\n",
    "\n",
    "project_dir = Path('.')\n",
    "\n",
    "assert project_dir.resolve().name == 'project_2'"
   ]
  },
  {
   "cell_type": "code",
   "execution_count": 5,
   "id": "8d14ee28",
   "metadata": {},
   "outputs": [
    {
     "name": "stdout",
     "output_type": "stream",
     "text": [
      "Data already exists!\n"
     ]
    }
   ],
   "source": [
    "# Baixando os dados\n",
    "\n",
    "# Definindo o arquivo a ser baixado\n",
    "subject = 'S1' \n",
    "data_dir = project_dir / 'data'\n",
    "\n",
    "if not data_dir.is_dir():\n",
    "    print(\"Data file doesn't exists, checking for compressed file\")\n",
    "    \n",
    "    data_compressed = project_dir / f'{subject}.mat.7z'\n",
    "    if not data_compressed.is_file():\n",
    "        data_dir.mkdir(exist_ok=True)\n",
    "        print(\"Compressed file doesn't exists, downloading...\")\n",
    "        \n",
    "        http = urllib3.PoolManager()\n",
    "        CHUNK_SIZE = 2**16\n",
    "        \n",
    "        data_description_url = 'https://bci.med.tsinghua.edu.cn/upload/yijun/Readme.txt'\n",
    "        data_description_file = data_dir / 'readme.txt'\n",
    "        resp = http.request('GET', data_description_url, preload_content = False)\n",
    "        with open(data_description_file, 'wb') as file:\n",
    "            while True:\n",
    "                data = resp.read(CHUNK_SIZE)\n",
    "                if not data:\n",
    "                    break\n",
    "                file.write(data)\n",
    "        resp.release_conn()\n",
    "        \n",
    "        freq_phase_url = 'https://bci.med.tsinghua.edu.cn/upload/yijun/Freq_Phase.mat'\n",
    "        freq_phase_file = data_dir / 'freq_phase.mat'\n",
    "        resp = http.request('GET', freq_phase_url, preload_content = False)\n",
    "        with open(freq_phase_file, 'wb') as file:\n",
    "            while True:\n",
    "                data = resp.read(CHUNK_SIZE)\n",
    "                if not data:\n",
    "                    break\n",
    "                file.write(data)\n",
    "        resp.release_conn()\n",
    "        \n",
    "        data_url = f'https://bci.med.tsinghua.edu.cn/upload/yijun/{data_compressed}'\n",
    "        resp = http.request('GET', data_url, preload_content = False)\n",
    "        TOTAL_SIZE = int(resp.headers.get('Content-Length'))\n",
    "        with (\n",
    "            open(data_compressed, 'wb') as file,\n",
    "            tqdm(\n",
    "                total = TOTAL_SIZE,\n",
    "                desc = f'Downloading {data_compressed.name}',\n",
    "                unit = 'B',\n",
    "                unit_scale = True) as bar\n",
    "        ):\n",
    "            for chunck in resp.stream(CHUNK_SIZE):\n",
    "                size = file.write(chunck)\n",
    "                bar.update(size)\n",
    "        resp.release_conn()\n",
    "    \n",
    "    print(\"Decompressing file...\")\n",
    "    with py7zr.SevenZipFile(data_compressed.name, 'r') as compressed:\n",
    "        compressed.extract(path = data_dir, recursive = False)\n",
    "    \n",
    "    print(\"Data file ready!\")\n",
    "    \n",
    "else:\n",
    "    print('Data already exists!')"
   ]
  },
  {
   "cell_type": "markdown",
   "id": "b743f80a",
   "metadata": {},
   "source": [
    "### _2. Organize sua matriz de dados de entrada **x** e seu valor de rótulos **y** da seguinte maneira..._"
   ]
  },
  {
   "cell_type": "code",
   "execution_count": 6,
   "id": "7e0c2e7a",
   "metadata": {},
   "outputs": [
    {
     "name": "stdout",
     "output_type": "stream",
     "text": [
      "b'This dataset gathered SSVEP-BCI recordings of 35 healthy subjects (17 females, aged 17-34 years, mean age: 22 years) focusing on 40 characters flickering at different frequencies (8-15.8 Hz with an interval of 0.2 Hz). For each subject, the experiment consisted of 6 blocks. Each block contained 40 trials corresponding to all 40 characters indicated in a random order. Each trial started with a visual cue (a red square) indicating a target stimulus. The cue appeared for 0.5 s on the screen. Subjects were asked to shift their gaze to the target as soon as possible within the cue duration. Following the cue offset, all stimuli started to flicker on the screen concurrently and lasted 5 s. After stimulus offset, the screen was blank for 0.5 s before the next trial began, which allowed the subjects to have short breaks between consecutive trials. Each trial lasted a total of 6 s. To facilitate visual fixation, a red triangle appeared below the flickering target during the stimulation period. In each block, subjects were asked to avoid eye blinks during the stimulation period. To avoid visual fatigue, there was a rest for several minutes between two consecutive blocks.\\r\\n\\r\\nEEG data were acquired using a Synamps2 system (Neuroscan, Inc.) with a sampling rate of 1000 Hz. The amplifier frequency passband ranged from 0.15 Hz to 200 Hz. Sixty-four channels covered the whole scalp of the subject and were aligned according to the international 10-20 system. The ground was placed on midway between Fz and FPz. The reference was located on the vertex. Electrode impedances were kept below 10 K\\xa6\\xb8. To remove the common power-line noise, a notch filter at 50 Hz was applied in data recording. Event triggers generated by the computer to the amplifier and recorded on an event channel synchronized to the EEG data. \\r\\n\\r\\nThe continuous EEG data was segmented into 6 s epochs (500 ms pre-stimulus, 5.5 s post-stimulus onset). The epochs were subsequently downsampled to 250 Hz. Thus each trial consisted of 1500 time points. Finally, these data were stored as double-precision floating-point values in MATLAB and were named as subject indices (i.e., S01.mat, \\xa1\\xad, S35.mat). For each file, the data loaded in MATLAB generate a 4-D matrix named \\xa1\\xaedata\\xa1\\xaf with dimensions of [64, 1500, 40, 6]. The four dimensions indicate \\xa1\\xaeElectrode index\\xa1\\xaf, \\xa1\\xaeTime points\\xa1\\xaf, \\xa1\\xaeTarget index\\xa1\\xaf, and \\xa1\\xaeBlock index\\xa1\\xaf. The electrode positions were saved in a \\xa1\\xae64-channels.loc\\xa1\\xaf file. Six trials were available for each SSVEP frequency. Frequency and phase values for the 40 target indices were saved in a \\xa1\\xaeFreq_Phase.mat\\xa1\\xaf file.\\r\\n\\r\\nInformation for all subjects was listed in a \\xa1\\xaeSub_info.txt\\xa1\\xaf file. For each subject, there are five factors including \\xa1\\xaeSubject Index\\xa1\\xaf, \\xa1\\xaeGender\\xa1\\xaf, \\xa1\\xaeAge\\xa1\\xaf, \\xa1\\xaeHandedness\\xa1\\xaf, and \\xa1\\xaeGroup\\xa1\\xaf. Subjects were divided into an \\xa1\\xaeexperienced\\xa1\\xaf group (eight subjects, S01-S08) and a \\xa1\\xaenaive\\xa1\\xaf group (27 subjects, S09-S35) according to their experience in SSVEP-based BCIs.\\r\\n'\n"
     ]
    }
   ],
   "source": [
    "# Descrição dos dados\n",
    "# Repare que não foi aplicada nenhum 'encoding' posto que o arquivo parece\n",
    "# ter uma codificação desconhecida. Esquemas tradicionais como utf-8 e iso-8859-1\n",
    "# não foram capazes de exibir corretamente os caracteres.\n",
    "\n",
    "data_description_file = data_dir / 'readme.txt'\n",
    "with open(data_description_file, 'rb') as f:\n",
    "    descr = f.read()\n",
    "    print(descr)"
   ]
  },
  {
   "cell_type": "code",
   "execution_count": 7,
   "id": "ed6ab98a",
   "metadata": {},
   "outputs": [
    {
     "name": "stdout",
     "output_type": "stream",
     "text": [
      "(1, 40)\n",
      "(1, 40)\n",
      "[[ 8.   9.  10.  11.  12.  13.  14.  15.   8.2  9.2 10.2 11.2 12.2 13.2\n",
      "  14.2 15.2  8.4  9.4 10.4 11.4 12.4 13.4 14.4 15.4  8.6  9.6 10.6 11.6\n",
      "  12.6 13.6 14.6 15.6  8.8  9.8 10.8 11.8 12.8 13.8 14.8 15.8]]\n"
     ]
    }
   ],
   "source": [
    "# Dados do mapeamento de frequência e fase\n",
    "\n",
    "freq_phase_file = data_dir / 'freq_phase.mat'\n",
    "freq_phase = scipy.io.loadmat(freq_phase_file)\n",
    "\n",
    "print(freq_phase['phases'].shape)\n",
    "print(freq_phase['freqs'].shape)\n",
    "print(freq_phase['freqs'])"
   ]
  },
  {
   "cell_type": "code",
   "execution_count": 8,
   "id": "308819fc",
   "metadata": {},
   "outputs": [
    {
     "data": {
      "text/plain": [
       "(64, 1500, 40, 6)"
      ]
     },
     "execution_count": 8,
     "metadata": {},
     "output_type": "execute_result"
    }
   ],
   "source": [
    "# Dados experimentais\n",
    "\n",
    "subject_file = data_dir / f'{subject}.mat'\n",
    "subject_mat = scipy.io.loadmat(subject_file)\n",
    "subject_mat['data'].shape"
   ]
  },
  {
   "cell_type": "code",
   "execution_count": 9,
   "id": "4f212870",
   "metadata": {},
   "outputs": [
    {
     "data": {
      "text/plain": [
       "((12, 1250),\n",
       " array([[  3.70141888,   0.50322926,  -0.27934119, ...,   1.9592433 ,\n",
       "           1.01149976,  -5.88010216],\n",
       "        [ -6.64295244,  -2.83018279,   0.04418454, ...,   6.31171703,\n",
       "           3.12776113,   2.56537223],\n",
       "        [  8.17666054,   4.36537313,   8.2611742 , ...,  -8.82727051,\n",
       "          -7.03082752,  -8.43020248],\n",
       "        ...,\n",
       "        [ -7.64600086,  -1.01372385,  -2.60362577, ...,  10.36601925,\n",
       "           6.28191471,   4.59104061],\n",
       "        [ 15.23135948,  16.80391312,  24.1235714 , ...,  10.85264206,\n",
       "           7.32025146,   9.7661171 ],\n",
       "        [-20.64233398, -15.26442337, -18.02239799, ...,   6.99568748,\n",
       "          -2.47388935,  -6.33217812]]),\n",
       " 33.8286018371582,\n",
       " -48.90739059448242,\n",
       " -0.39478745126182524,\n",
       " 9.030378711934027)"
      ]
     },
     "execution_count": 9,
     "metadata": {},
     "output_type": "execute_result"
    }
   ],
   "source": [
    "# Array de entrada 'x'\n",
    "\n",
    "freq1 = 0\n",
    "freq2 = 1\n",
    "\n",
    "data1 = subject_mat['data'][60, 125:1375, freq1]\n",
    "data1 = np.swapaxes(data1, 0, 1)\n",
    "\n",
    "data2 = subject_mat['data'][60, 125:1375, freq2]\n",
    "data2 = np.swapaxes(data2, 0, 1)\n",
    "\n",
    "x = np.vstack((data1, data2))\n",
    "\n",
    "x.shape, x, x.max(), x.min(), x.mean(), x.std()"
   ]
  },
  {
   "cell_type": "code",
   "execution_count": 10,
   "id": "1a590295",
   "metadata": {},
   "outputs": [
    {
     "data": {
      "text/plain": [
       "((12,), array([ 1,  1,  1,  1,  1,  1, -1, -1, -1, -1, -1, -1]))"
      ]
     },
     "execution_count": 10,
     "metadata": {},
     "output_type": "execute_result"
    }
   ],
   "source": [
    "# Array de rótulos 'y'\n",
    "\n",
    "y = np.array([1 if n < 6 else -1 for n in range(12)])\n",
    "\n",
    "y.shape, y"
   ]
  },
  {
   "cell_type": "markdown",
   "id": "d5ecef5c",
   "metadata": {},
   "source": [
    "### _3. Implemente o perceptron que receba em sua entrada a matriz de dados **x** e retorne o valor de **y**, indicando a frequência de estimulação $f_1$ ou $f_2$._\n",
    "\n",
    "### _Separe aleatoriamente 4 amostras de cada classe para treinar o perceptron e o restante das amostras para validar o sistema._ "
   ]
  },
  {
   "cell_type": "code",
   "execution_count": 11,
   "id": "14a9ab9f",
   "metadata": {},
   "outputs": [],
   "source": [
    "class Perceptron:    \n",
    "    def __init__(self, input_dim, learning_rate, activation_function = None):\n",
    "        self.input_dim = input_dim\n",
    "        self.learning_rate = learning_rate\n",
    "        self.w = np.ones(input_dim + 1)\n",
    "        if activation_function is not None:\n",
    "            self.activation_function = activation_function\n",
    "        else:\n",
    "            self.activation_function = lambda x: -1 if x < 0 else 1\n",
    "        \n",
    "    def train(self, inputs, outputs):\n",
    "        assert len(inputs) == len(outputs)\n",
    "        \n",
    "        for i in range(len(inputs)):\n",
    "            x = inputs[i]\n",
    "            y = outputs[i]\n",
    "            \n",
    "            x = np.append(x, 1)\n",
    "            u = np.dot(self.w, x)\n",
    "            y_pred = self.activation_function(u)\n",
    "            error = y - y_pred\n",
    "            update = self.learning_rate * error * x\n",
    "            self.w += update\n",
    "            \n",
    "    def predict(self, inpt):\n",
    "        inpt = np.append(inpt, 1)\n",
    "        u = np.dot(self.w, inpt)\n",
    "        return self.activation_function(u)"
   ]
  },
  {
   "cell_type": "code",
   "execution_count": 332,
   "id": "9c5b1ca8",
   "metadata": {},
   "outputs": [
    {
     "name": "stdout",
     "output_type": "stream",
     "text": [
      "1 1\n",
      "1 1\n",
      "-1 -1\n",
      "-1 -1\n"
     ]
    }
   ],
   "source": [
    "rng = np.random.default_rng()\n",
    "\n",
    "x_train_index_freq1 = rng.choice(range(6), size = 4, replace = False)\n",
    "x_train_freq1 = x[x_train_index_freq1]\n",
    "\n",
    "x_train_index_freq2 = rng.choice(range(6, 12), size = 4, replace = False)\n",
    "x_train_freq2 = x[x_train_index_freq2]\n",
    "\n",
    "x_train = np.vstack((x_train_freq1, x_train_freq2))\n",
    "y_train = np.array([1 if n < 4 else -1 for n in range(8)])\n",
    "\n",
    "p = Perceptron(1250, learning_rate = 0.5)\n",
    "p.train(x_train, y_train)\n",
    "\n",
    "x_test_index = np.setdiff1d(\n",
    "    np.array(range(0, 12)),\n",
    "    np.concatenate((x_train_index_freq1, x_train_index_freq2))\n",
    ")\n",
    "\n",
    "x_test = x[x_test_index]\n",
    "y_test = np.array([1 if n < len(x_test)/2 else -1 for n in range(len(x_test))])\n",
    "\n",
    "for i in range(len(x_test)):\n",
    "    print(y_test[i], p.predict(x_test[i]))"
   ]
  },
  {
   "cell_type": "code",
   "execution_count": null,
   "id": "53742269-1409-4005-b881-800b0197846b",
   "metadata": {},
   "outputs": [],
   "source": []
  }
 ],
 "metadata": {
  "kernelspec": {
   "display_name": "Python 3 (ipykernel)",
   "language": "python",
   "name": "python3"
  },
  "language_info": {
   "codemirror_mode": {
    "name": "ipython",
    "version": 3
   },
   "file_extension": ".py",
   "mimetype": "text/x-python",
   "name": "python",
   "nbconvert_exporter": "python",
   "pygments_lexer": "ipython3",
   "version": "3.11.10"
  }
 },
 "nbformat": 4,
 "nbformat_minor": 5
}
